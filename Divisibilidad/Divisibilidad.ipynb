{
 "cells": [
  {
   "cell_type": "markdown",
   "metadata": {
    "slideshow": {
     "slide_type": "slide"
    }
   },
   "source": [
    "<center> <h1>Introducción a la teoría de números</h1>\n",
    " <h2>Divisibilidad</h2></center>"
   ]
  },
  {
   "cell_type": "markdown",
   "metadata": {
    "slideshow": {
     "slide_type": "fragment"
    }
   },
   "source": [
    "<p style=\"color:rgb(255,0,0);\"><strong>Definición:</strong></p>\n",
    "Sean $a,b\\in \\mathbb{Z}.$ Decimos que $b$ divide a $a$ (o que $b$ es factor de $a$, o que $a$ es múltiplo de $b$) si existe un $n \\in \\mathbb{Z}$ tal que $bn=a,$ lo denotamos por $b|a$.\n",
    "\n",
    "Es decir, $$b|a\\iff \\exists n\\in\\mathbb{Z}:bn=a.$$"
   ]
  },
  {
   "cell_type": "markdown",
   "metadata": {
    "slideshow": {
     "slide_type": "fragment"
    }
   },
   "source": [
    "<p style=\"color:rgb( 51, 58, 160);\"><strong>Ejemplo:</strong></p>"
   ]
  },
  {
   "cell_type": "code",
   "execution_count": 20,
   "metadata": {
    "slideshow": {
     "slide_type": "fragment"
    }
   },
   "outputs": [],
   "source": [
    "def es_divisor(a,b):\n",
    "    if a%b==0:\n",
    "        n=a/b\n",
    "        print(str(int(n))+\"*\"+str(b)+\"=\"+str(a))\n",
    "    else:\n",
    "        print(\"No son divisibles\")"
   ]
  },
  {
   "cell_type": "code",
   "execution_count": 21,
   "metadata": {
    "slideshow": {
     "slide_type": "skip"
    }
   },
   "outputs": [
    {
     "name": "stdout",
     "output_type": "stream",
     "text": [
      "9*9=81\n"
     ]
    }
   ],
   "source": [
    "es_divisor(81,9)"
   ]
  },
  {
   "cell_type": "code",
   "execution_count": 23,
   "metadata": {
    "slideshow": {
     "slide_type": "fragment"
    }
   },
   "outputs": [
    {
     "name": "stdout",
     "output_type": "stream",
     "text": [
      "505*4=2020\n"
     ]
    }
   ],
   "source": [
    "es_divisor(2020,4)"
   ]
  },
  {
   "cell_type": "code",
   "execution_count": 24,
   "metadata": {
    "slideshow": {
     "slide_type": "fragment"
    }
   },
   "outputs": [
    {
     "name": "stdout",
     "output_type": "stream",
     "text": [
      "-505*-4=2020\n"
     ]
    }
   ],
   "source": [
    "es_divisor(2020,-4)"
   ]
  },
  {
   "cell_type": "markdown",
   "metadata": {
    "slideshow": {
     "slide_type": "subslide"
    }
   },
   "source": [
    "<p style=\"color:rgb( 255,0,0);\"><strong>Teorema:</strong> </p> Dados $a,b,c \\in \\mathbb{Z}$, tenemos que:\n",
    "\n",
    "* $1|a$.\n",
    "* Si $a\\neq 0$, entonces $a|a$.\n",
    "* Si $b\\neq 0$, entonces $|a|\\leq |b|$.\n",
    "* Si $a|b$ y $b|a$, entonces $|a|=|b|$.\n",
    "* Si $a|b$ y $b|c$, entonces $a|c$.\n",
    "* Si $c|a$ y $c|b$, entonces $c$ divide a cualquier combinación lineal (entera) entre $a$ y $b$, es decir $c|k$ con $k=xa+yb$, donde $x,y\\in \\mathbb{Z}$."
   ]
  },
  {
   "cell_type": "markdown",
   "metadata": {
    "slideshow": {
     "slide_type": "fragment"
    }
   },
   "source": [
    "<center>Si <span style=\"color:black\">$b\\neq 0$</span>, entonces <span style=\"color:black\">$|a|\\leq |b|$</span>.</center>\n",
    "\n",
    "*Demostración:* "
   ]
  },
  {
   "cell_type": "markdown",
   "metadata": {
    "slideshow": {
     "slide_type": "fragment"
    }
   },
   "source": [
    "![La demostración ha fallado](demo.jpeg)"
   ]
  },
  {
   "cell_type": "markdown",
   "metadata": {
    "slideshow": {
     "slide_type": "fragment"
    }
   },
   "source": [
    "<h3>🧠 Vamos a demostrar las otras...</h3>  \n",
    "\n",
    "[enlace](https://idroo.com/board-jWPiaURCx3)"
   ]
  },
  {
   "cell_type": "markdown",
   "metadata": {
    "slideshow": {
     "slide_type": "slide"
    }
   },
   "source": [
    "<center><h2>Algorítmo de la división</h2></center>"
   ]
  },
  {
   "cell_type": "markdown",
   "metadata": {
    "slideshow": {
     "slide_type": "fragment"
    }
   },
   "source": [
    "<p style=\"color:rgb( 255,0,0);\"><strong>Teorema:</strong> </p> \n",
    "\n",
    "Dados $a,d\\in\\mathbb{Z}$ tal que $d\\neq 0$, existe números enteros únicos $e$ y $r$ tales que:\n",
    "\n",
    " <center> $a=de+r$, con $0\\leq r< |d|.$ </center>\n",
    "\n",
    "El número $r$ es llamado el residuo que resulta al dividir $a$ entre $d$ o el residuo de $a$ módulo $d$, y se denota como: $Res_d (a)$."
   ]
  },
  {
   "cell_type": "markdown",
   "metadata": {
    "slideshow": {
     "slide_type": "subslide"
    }
   },
   "source": [
    "<h3>👩‍🏫 Estudiemos el teorema antes de dar la demostración:</h3>\n"
   ]
  },
  {
   "cell_type": "code",
   "execution_count": 8,
   "metadata": {
    "slideshow": {
     "slide_type": "fragment"
    }
   },
   "outputs": [],
   "source": [
    "def alg_div(a,d):\n",
    "    e=a//d\n",
    "    r=a%d\n",
    "    return (e,r)"
   ]
  },
  {
   "cell_type": "code",
   "execution_count": 9,
   "metadata": {
    "slideshow": {
     "slide_type": "fragment"
    }
   },
   "outputs": [
    {
     "data": {
      "text/plain": [
       "(2, 0)"
      ]
     },
     "execution_count": 9,
     "metadata": {},
     "output_type": "execute_result"
    }
   ],
   "source": [
    "alg_div(8,4)"
   ]
  },
  {
   "cell_type": "code",
   "execution_count": 10,
   "metadata": {
    "slideshow": {
     "slide_type": "fragment"
    }
   },
   "outputs": [
    {
     "data": {
      "text/plain": [
       "(3, 3)"
      ]
     },
     "execution_count": 10,
     "metadata": {},
     "output_type": "execute_result"
    }
   ],
   "source": [
    "alg_div(15,4)"
   ]
  },
  {
   "cell_type": "code",
   "execution_count": 12,
   "metadata": {
    "slideshow": {
     "slide_type": "fragment"
    }
   },
   "outputs": [
    {
     "data": {
      "text/plain": [
       "((37, 2), (18, 1))"
      ]
     },
     "execution_count": 12,
     "metadata": {},
     "output_type": "execute_result"
    }
   ],
   "source": [
    "alg_div(150,4),alg_div(37,2) #Primera muestra del algorítmo de Euclides."
   ]
  },
  {
   "cell_type": "markdown",
   "metadata": {
    "slideshow": {
     "slide_type": "subslide"
    }
   },
   "source": [
    "🤯 Veamos la demostración [JamBoard](https://jamboard.google.com/d/1gvvnG6hEF-qdbu-nsgrL9G7K_iC0kLlxe_FxJ3c_m18/viewer?f=0)"
   ]
  },
  {
   "cell_type": "markdown",
   "metadata": {
    "slideshow": {
     "slide_type": "notes"
    }
   },
   "source": [
    "* Rise Metadata [Enlace1](https://rise.readthedocs.io/en/stable/customize.html)\n",
    "* Sintaxis Markdawn [Enlace 1](https://markdown.es/sintaxis-markdown/#imagenes) [Enlace 2](https://joedicastro.com/pages/markdown.html#mark7)\n",
    "* Códigos de colores [Enlace](https://htmlcolorcodes.com/es/)\n",
    "* Emojis [Enlace](https://es.piliapp.com/twitter-symbols/)"
   ]
  }
 ],
 "metadata": {
  "celltoolbar": "Slideshow",
  "kernelspec": {
   "display_name": "Python 3",
   "language": "python",
   "name": "python3"
  },
  "language_info": {
   "codemirror_mode": {
    "name": "ipython",
    "version": 3
   },
   "file_extension": ".py",
   "mimetype": "text/x-python",
   "name": "python",
   "nbconvert_exporter": "python",
   "pygments_lexer": "ipython3",
   "version": "3.8.5"
  },
  "rise": {
   "scroll": true,
   "start_slideshow_at": "beginning"
  }
 },
 "nbformat": 4,
 "nbformat_minor": 2
}
